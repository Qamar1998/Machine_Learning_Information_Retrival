{
 "cells": [
  {
   "cell_type": "markdown",
   "metadata": {},
   "source": [
    "<h1>Create A Simple Search Engine Using Python</h1>"
   ]
  },
  {
   "cell_type": "markdown",
   "metadata": {},
   "source": [
    "<h3>1. Preparing the documents </h3>"
   ]
  },
  {
   "cell_type": "code",
   "execution_count": 16,
   "metadata": {},
   "outputs": [],
   "source": [
    "import pandas as pd  # data processing\n",
    "import numpy as np  # linear algebra\n",
    "import glob  # find files recursively"
   ]
  },
  {
   "cell_type": "code",
   "execution_count": 17,
   "metadata": {},
   "outputs": [],
   "source": [
    "def read_files(folder_name):\n",
    "    corpus = [] \n",
    "    \n",
    "    #Get number of files in dir\n",
    "    fileCounter =  len(glob.glob(folder_name+\"/*.txt\"))  \n",
    "\n",
    "    #The glob module is used to retrieve files/pathnames matching a specified pattern\n",
    "    #An asterisk (*) matches zero or more characters in a segment of a name\n",
    "    \n",
    "    for file in glob.glob(folder_name + \"/*.txt\"):\n",
    "        with open(file, \"r\") as file_txt:    \n",
    "            # Append the documents to corpus\n",
    "            corpus.append((file, file_txt.read()))\n",
    "                    \n",
    "    return corpus,fileCounter"
   ]
  },
  {
   "cell_type": "markdown",
   "metadata": {},
   "source": [
    "<h3>2. Create a Term-Document Matrix with TF-IDF weighting</h3>"
   ]
  },
  {
   "cell_type": "markdown",
   "metadata": {},
   "source": [
    "<h5>Generating tf-idf vectors using Tfidfvectorizer you compute the word counts, idf and tf-idf values all at once</h5>"
   ]
  },
  {
   "cell_type": "code",
   "execution_count": 18,
   "metadata": {},
   "outputs": [],
   "source": [
    "def tf_idf(corpus):\n",
    "\n",
    "    # Import TfidfVectorizer\n",
    "    from sklearn.feature_extraction.text import TfidfVectorizer\n",
    "\n",
    "    # Create TfidfVectorizer object\n",
    "    vectorizer = TfidfVectorizer(analyzer='word', min_df = 0, max_df = 0.85 , stop_words = 'english') \n",
    "\n",
    "    # Generate matrix of tf-idf vectors\n",
    "    tfidf_matrix = vectorizer.fit_transform([content for file, content in corpus])\n",
    "\n",
    "    # Create a DataFrame and set the vocabulary as the index\n",
    "    tfidf_matrix = tfidf_matrix.T.toarray()\n",
    "    df = pd.DataFrame(tfidf_matrix, index=vectorizer.get_feature_names())\n",
    "    return df,vectorizer"
   ]
  },
  {
   "cell_type": "markdown",
   "metadata": {},
   "source": [
    "<h3>3. Get cosine Similarity</h3>\n",
    "<h6>It will defines the similarity between query and documents by measuring cosine of angle between two vectors .</h6>"
   ]
  },
  {
   "cell_type": "code",
   "execution_count": 19,
   "metadata": {},
   "outputs": [],
   "source": [
    "def get_similarity(folder_name, query):\n",
    "    \n",
    "    #Read the files \n",
    "    corpus,fileCounter = read_files(folder_name)  \n",
    "    \n",
    "    #Generate tf-idf vectors\n",
    "    df,vectorizer = tf_idf(corpus)  \n",
    "    \n",
    "    # Convert the query to lowercase\n",
    "    query.lower()\n",
    "    # Convert the query become a vector\n",
    "    query = [query]\n",
    "    q_vec = vectorizer.transform(query).toarray().reshape(df.shape[0],)\n",
    "    sim = {} \n",
    "    \n",
    "    # Calculate the similarity\n",
    "    for i in range(fileCounter):\n",
    "        sim[i] = np.dot(df.loc[:, i].values, q_vec) / np.linalg.norm(df.loc[:, i]) * np.linalg.norm(q_vec)\n",
    "        \n",
    "    # Sort the values \n",
    "    sim_sorted = sorted(sim.items(), key=lambda x: x[1], reverse=True) \n",
    "\n",
    "    # Print the document and their similarity values\n",
    "    for k, v in sim_sorted:\n",
    "        if v != 0.0:\n",
    "            print(\"Similaritas:\", v)\n",
    "            print(\"File path :\", corpus[k][0] , '\\n')\n",
    "\n"
   ]
  },
  {
   "cell_type": "code",
   "execution_count": 20,
   "metadata": {},
   "outputs": [
    {
     "name": "stdout",
     "output_type": "stream",
     "text": [
      "Enter directory name : Docs\n",
      "Enter your query : Toronto\n",
      "\n",
      "Similaritas: 0.26816497621697316\n",
      "File path : Docs/file1.txt \n",
      "\n",
      "Similaritas: 0.06664965507560099\n",
      "File path : Docs/file4.txt \n",
      "\n"
     ]
    }
   ],
   "source": [
    "# Add The Query and dir_name\n",
    "dir_name = input(\"Enter directory name : \") \n",
    "Query = input(\"Enter your query : \") \n",
    "print()\n",
    "\n",
    "#Get the similar documents\n",
    "get_similarity(dir_name, Query)"
   ]
  },
  {
   "cell_type": "code",
   "execution_count": null,
   "metadata": {},
   "outputs": [],
   "source": []
  }
 ],
 "metadata": {
  "kernelspec": {
   "display_name": "Python 3",
   "language": "python",
   "name": "python3"
  },
  "language_info": {
   "codemirror_mode": {
    "name": "ipython",
    "version": 3
   },
   "file_extension": ".py",
   "mimetype": "text/x-python",
   "name": "python",
   "nbconvert_exporter": "python",
   "pygments_lexer": "ipython3",
   "version": "3.8.5"
  }
 },
 "nbformat": 4,
 "nbformat_minor": 4
}
